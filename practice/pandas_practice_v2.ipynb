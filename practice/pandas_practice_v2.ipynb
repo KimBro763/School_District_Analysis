{
 "cells": [
  {
   "cell_type": "code",
   "execution_count": 143,
   "id": "5623c901",
   "metadata": {},
   "outputs": [
    {
     "name": "stdout",
     "output_type": "stream",
     "text": [
      "Hernandez High School\n",
      "Figueroa High School\n",
      "Wilson High School\n",
      "Wright High School\n"
     ]
    }
   ],
   "source": [
    "high_schools = [\"Hernandez High School\", \"Figueroa High School\", \"Wilson High School\", \"Wright High School\"]\n",
    "for i in high_schools: \n",
    "    print(i)\n",
    "    "
   ]
  },
  {
   "cell_type": "code",
   "execution_count": 144,
   "id": "5b21452c",
   "metadata": {},
   "outputs": [],
   "source": [
    "# A dictionary of high schools and the type of school.\n",
    "high_school_types = [{\"High School\": \"Griffin\", \"Type\":\"District\"},\n",
    "                    {\"High School\": \"Figueroa\", \"Type\": \"District\"},\n",
    "                    {\"High School\": \"Wilson\", \"Type\": \"Charter\"},\n",
    "                    {\"High School\": \"Wright\", \"Type\": \"Charter\"}]"
   ]
  },
  {
   "cell_type": "code",
   "execution_count": 145,
   "id": "3831a802",
   "metadata": {},
   "outputs": [
    {
     "name": "stdout",
     "output_type": "stream",
     "text": [
      "{'High School': 'Griffin', 'Type': 'District'}\n",
      "{'High School': 'Figueroa', 'Type': 'District'}\n",
      "{'High School': 'Wilson', 'Type': 'Charter'}\n",
      "{'High School': 'Wright', 'Type': 'Charter'}\n"
     ]
    }
   ],
   "source": [
    "for i in high_school_types:\n",
    "    print(i)\n",
    "    \n",
    "\n"
   ]
  },
  {
   "cell_type": "code",
   "execution_count": 146,
   "id": "40592c41",
   "metadata": {},
   "outputs": [],
   "source": [
    "# List of high schools\n",
    "high_schools = [\"Huang High School\",  \"Figueroa High School\", \"Shelton High School\", \"Hernandez High School\",\"Griffin High School\",\"Wilson High School\", \"Cabrera High School\", \"Bailey High School\", \"Holden High School\", \"Pena High School\", \"Wright High School\",\"Rodriguez High School\", \"Johnson High School\", \"Ford High School\", \"Thomas High School\"]\n"
   ]
  },
  {
   "cell_type": "code",
   "execution_count": 147,
   "id": "e985587c",
   "metadata": {},
   "outputs": [
    {
     "data": {
      "text/plain": [
       "['Huang High School',\n",
       " 'Figueroa High School',\n",
       " 'Shelton High School',\n",
       " 'Hernandez High School',\n",
       " 'Griffin High School',\n",
       " 'Wilson High School',\n",
       " 'Cabrera High School',\n",
       " 'Bailey High School',\n",
       " 'Holden High School',\n",
       " 'Pena High School',\n",
       " 'Wright High School',\n",
       " 'Rodriguez High School',\n",
       " 'Johnson High School',\n",
       " 'Ford High School',\n",
       " 'Thomas High School']"
      ]
     },
     "execution_count": 147,
     "metadata": {},
     "output_type": "execute_result"
    }
   ],
   "source": [
    "high_schools\n"
   ]
  },
  {
   "cell_type": "code",
   "execution_count": 148,
   "id": "8ea8481d",
   "metadata": {},
   "outputs": [],
   "source": [
    "import pandas as pd"
   ]
  },
  {
   "cell_type": "code",
   "execution_count": 149,
   "id": "13b0762a",
   "metadata": {},
   "outputs": [],
   "source": [
    "school_series = pd.Series(high_schools)"
   ]
  },
  {
   "cell_type": "code",
   "execution_count": 150,
   "id": "612871f5",
   "metadata": {},
   "outputs": [
    {
     "name": "stdout",
     "output_type": "stream",
     "text": [
      "0         Huang High School\n",
      "1      Figueroa High School\n",
      "2       Shelton High School\n",
      "3     Hernandez High School\n",
      "4       Griffin High School\n",
      "5        Wilson High School\n",
      "6       Cabrera High School\n",
      "7        Bailey High School\n",
      "8        Holden High School\n",
      "9          Pena High School\n",
      "10       Wright High School\n",
      "11    Rodriguez High School\n",
      "12      Johnson High School\n",
      "13         Ford High School\n",
      "14       Thomas High School\n",
      "dtype: object\n"
     ]
    }
   ],
   "source": [
    "print(school_series)"
   ]
  },
  {
   "cell_type": "code",
   "execution_count": 151,
   "id": "775f4a6c",
   "metadata": {},
   "outputs": [],
   "source": [
    "# A dictionary of high schools\n",
    "high_school_dicts = [{\"School ID\": 0, \"school_name\": \"Huang High School\", \"type\": \"District\"},\n",
    "                     {\"School ID\": 1, \"school_name\": \"Figueroa High School\", \"type\": \"District\"}, \n",
    "                     {\"School ID\": 2, \"school_name\":\"Shelton High School\", \"type\": \"Charter\"},\n",
    "                      {\"School ID\": 3, \"school_name\": \"Huang High School\", \"type\": \"District\"}, \n",
    "                      {\"School ID\": 4, \"school_name\": \"Griffin High School\", \"type\": \"Charter\"}]"
   ]
  },
  {
   "cell_type": "code",
   "execution_count": 152,
   "id": "bf5e89cf",
   "metadata": {},
   "outputs": [
    {
     "data": {
      "text/plain": [
       "[{'School ID': 0, 'school_name': 'Huang High School', 'type': 'District'},\n",
       " {'School ID': 1, 'school_name': 'Figueroa High School', 'type': 'District'},\n",
       " {'School ID': 2, 'school_name': 'Shelton High School', 'type': 'Charter'},\n",
       " {'School ID': 3, 'school_name': 'Huang High School', 'type': 'District'},\n",
       " {'Scool ID': 4, 'school_name': 'Griffin High School', 'type': 'Charter'}]"
      ]
     },
     "execution_count": 152,
     "metadata": {},
     "output_type": "execute_result"
    }
   ],
   "source": [
    "high_school_dicts"
   ]
  },
  {
   "cell_type": "code",
   "execution_count": 153,
   "id": "bc9b0572",
   "metadata": {},
   "outputs": [],
   "source": [
    "school_df = pd.DataFrame()"
   ]
  },
  {
   "cell_type": "code",
   "execution_count": 154,
   "id": "244cce39",
   "metadata": {},
   "outputs": [],
   "source": [
    "school_df = pd.DataFrame(high_school_dicts)"
   ]
  },
  {
   "cell_type": "code",
   "execution_count": 155,
   "id": "1565d765",
   "metadata": {},
   "outputs": [
    {
     "data": {
      "text/html": [
       "<div>\n",
       "<style scoped>\n",
       "    .dataframe tbody tr th:only-of-type {\n",
       "        vertical-align: middle;\n",
       "    }\n",
       "\n",
       "    .dataframe tbody tr th {\n",
       "        vertical-align: top;\n",
       "    }\n",
       "\n",
       "    .dataframe thead th {\n",
       "        text-align: right;\n",
       "    }\n",
       "</style>\n",
       "<table border=\"1\" class=\"dataframe\">\n",
       "  <thead>\n",
       "    <tr style=\"text-align: right;\">\n",
       "      <th></th>\n",
       "      <th>School ID</th>\n",
       "      <th>school_name</th>\n",
       "      <th>type</th>\n",
       "      <th>Scool ID</th>\n",
       "    </tr>\n",
       "  </thead>\n",
       "  <tbody>\n",
       "    <tr>\n",
       "      <th>0</th>\n",
       "      <td>0.0</td>\n",
       "      <td>Huang High School</td>\n",
       "      <td>District</td>\n",
       "      <td>NaN</td>\n",
       "    </tr>\n",
       "    <tr>\n",
       "      <th>1</th>\n",
       "      <td>1.0</td>\n",
       "      <td>Figueroa High School</td>\n",
       "      <td>District</td>\n",
       "      <td>NaN</td>\n",
       "    </tr>\n",
       "    <tr>\n",
       "      <th>2</th>\n",
       "      <td>2.0</td>\n",
       "      <td>Shelton High School</td>\n",
       "      <td>Charter</td>\n",
       "      <td>NaN</td>\n",
       "    </tr>\n",
       "    <tr>\n",
       "      <th>3</th>\n",
       "      <td>3.0</td>\n",
       "      <td>Huang High School</td>\n",
       "      <td>District</td>\n",
       "      <td>NaN</td>\n",
       "    </tr>\n",
       "    <tr>\n",
       "      <th>4</th>\n",
       "      <td>NaN</td>\n",
       "      <td>Griffin High School</td>\n",
       "      <td>Charter</td>\n",
       "      <td>4.0</td>\n",
       "    </tr>\n",
       "  </tbody>\n",
       "</table>\n",
       "</div>"
      ],
      "text/plain": [
       "   School ID           school_name      type  Scool ID\n",
       "0        0.0     Huang High School  District       NaN\n",
       "1        1.0  Figueroa High School  District       NaN\n",
       "2        2.0   Shelton High School   Charter       NaN\n",
       "3        3.0     Huang High School  District       NaN\n",
       "4        NaN   Griffin High School   Charter       4.0"
      ]
     },
     "execution_count": 155,
     "metadata": {},
     "output_type": "execute_result"
    }
   ],
   "source": [
    "school_df"
   ]
  },
  {
   "cell_type": "code",
   "execution_count": 156,
   "id": "dcd77bc1",
   "metadata": {},
   "outputs": [],
   "source": [
    "# Three separate lists of information on high schools\n",
    "school_id = [0, 1, 2, 3, 4]\n",
    "\n",
    "school_name = [\"Huang High School\", \"Figueroa High School\", \"Shelton High School\", \"Hernandez High School\", \"Griffin High School\"]\n",
    "\n",
    "type_of_school = [\"District\", \"District\", \"Charter\", \"District\", \"Charter\"]\n"
   ]
  },
  {
   "cell_type": "code",
   "execution_count": 157,
   "id": "5787f35c",
   "metadata": {},
   "outputs": [],
   "source": [
    "# Initialize a new DataFrame.\n",
    "schools_df = pd.DataFrame()"
   ]
  },
  {
   "cell_type": "code",
   "execution_count": 158,
   "id": "e6a2d552",
   "metadata": {},
   "outputs": [],
   "source": [
    "schools_df[\"School ID\"] = school_id\n",
    "schools_df[\"School Name\"] = school_name\n",
    "schools_df[\"Type\"] = type_of_school"
   ]
  },
  {
   "cell_type": "code",
   "execution_count": 159,
   "id": "37d51e0b",
   "metadata": {},
   "outputs": [
    {
     "data": {
      "text/html": [
       "<div>\n",
       "<style scoped>\n",
       "    .dataframe tbody tr th:only-of-type {\n",
       "        vertical-align: middle;\n",
       "    }\n",
       "\n",
       "    .dataframe tbody tr th {\n",
       "        vertical-align: top;\n",
       "    }\n",
       "\n",
       "    .dataframe thead th {\n",
       "        text-align: right;\n",
       "    }\n",
       "</style>\n",
       "<table border=\"1\" class=\"dataframe\">\n",
       "  <thead>\n",
       "    <tr style=\"text-align: right;\">\n",
       "      <th></th>\n",
       "      <th>School ID</th>\n",
       "      <th>School Name</th>\n",
       "      <th>Type</th>\n",
       "    </tr>\n",
       "  </thead>\n",
       "  <tbody>\n",
       "    <tr>\n",
       "      <th>0</th>\n",
       "      <td>0</td>\n",
       "      <td>Huang High School</td>\n",
       "      <td>District</td>\n",
       "    </tr>\n",
       "    <tr>\n",
       "      <th>1</th>\n",
       "      <td>1</td>\n",
       "      <td>Figueroa High School</td>\n",
       "      <td>District</td>\n",
       "    </tr>\n",
       "    <tr>\n",
       "      <th>2</th>\n",
       "      <td>2</td>\n",
       "      <td>Shelton High School</td>\n",
       "      <td>Charter</td>\n",
       "    </tr>\n",
       "    <tr>\n",
       "      <th>3</th>\n",
       "      <td>3</td>\n",
       "      <td>Hernandez High School</td>\n",
       "      <td>District</td>\n",
       "    </tr>\n",
       "    <tr>\n",
       "      <th>4</th>\n",
       "      <td>4</td>\n",
       "      <td>Griffin High School</td>\n",
       "      <td>Charter</td>\n",
       "    </tr>\n",
       "  </tbody>\n",
       "</table>\n",
       "</div>"
      ],
      "text/plain": [
       "   School ID            School Name      Type\n",
       "0          0      Huang High School  District\n",
       "1          1   Figueroa High School  District\n",
       "2          2    Shelton High School   Charter\n",
       "3          3  Hernandez High School  District\n",
       "4          4    Griffin High School   Charter"
      ]
     },
     "execution_count": 159,
     "metadata": {},
     "output_type": "execute_result"
    }
   ],
   "source": [
    "schools_df"
   ]
  },
  {
   "cell_type": "code",
   "execution_count": 160,
   "id": "2234e556",
   "metadata": {},
   "outputs": [],
   "source": [
    "high_schools_dict = {'School ID': school_id, 'School Name': school_name, 'type': type_of_school}"
   ]
  },
  {
   "cell_type": "code",
   "execution_count": 161,
   "id": "d892b27f",
   "metadata": {},
   "outputs": [
    {
     "data": {
      "text/plain": [
       "{'School ID': [0, 1, 2, 3, 4],\n",
       " 'School Name': ['Huang High School',\n",
       "  'Figueroa High School',\n",
       "  'Shelton High School',\n",
       "  'Hernandez High School',\n",
       "  'Griffin High School'],\n",
       " 'type': ['District', 'District', 'Charter', 'District', 'Charter']}"
      ]
     },
     "execution_count": 161,
     "metadata": {},
     "output_type": "execute_result"
    }
   ],
   "source": [
    "high_schools_dict"
   ]
  },
  {
   "cell_type": "code",
   "execution_count": 162,
   "id": "d427567c",
   "metadata": {},
   "outputs": [
    {
     "data": {
      "text/plain": [
       "Index(['School ID', 'School Name', 'Type'], dtype='object')"
      ]
     },
     "execution_count": 162,
     "metadata": {},
     "output_type": "execute_result"
    }
   ],
   "source": [
    "schools_df.columns"
   ]
  },
  {
   "cell_type": "code",
   "execution_count": 163,
   "id": "61ee8c4b",
   "metadata": {},
   "outputs": [
    {
     "data": {
      "text/plain": [
       "RangeIndex(start=0, stop=5, step=1)"
      ]
     },
     "execution_count": 163,
     "metadata": {},
     "output_type": "execute_result"
    }
   ],
   "source": [
    "schools_df.index"
   ]
  },
  {
   "cell_type": "code",
   "execution_count": 164,
   "id": "7421d72d",
   "metadata": {},
   "outputs": [
    {
     "data": {
      "text/plain": [
       "array([[0, 'Huang High School', 'District'],\n",
       "       [1, 'Figueroa High School', 'District'],\n",
       "       [2, 'Shelton High School', 'Charter'],\n",
       "       [3, 'Hernandez High School', 'District'],\n",
       "       [4, 'Griffin High School', 'Charter']], dtype=object)"
      ]
     },
     "execution_count": 164,
     "metadata": {},
     "output_type": "execute_result"
    }
   ],
   "source": [
    "schools_df.values"
   ]
  },
  {
   "cell_type": "code",
   "execution_count": 165,
   "id": "c140a55f",
   "metadata": {},
   "outputs": [],
   "source": [
    "new_df = pd.DataFrame()"
   ]
  },
  {
   "cell_type": "code",
   "execution_count": 166,
   "id": "098fd944",
   "metadata": {},
   "outputs": [],
   "source": [
    "new_df[\"School ID\"] = school_id\n",
    "new_df[\"School_Name\"] = school_name\n",
    "new_df[\"Type\"] = type_of_school"
   ]
  }
 ],
 "metadata": {
  "kernelspec": {
   "display_name": "PythonData",
   "language": "python",
   "name": "pythondata"
  },
  "language_info": {
   "codemirror_mode": {
    "name": "ipython",
    "version": 3
   },
   "file_extension": ".py",
   "mimetype": "text/x-python",
   "name": "python",
   "nbconvert_exporter": "python",
   "pygments_lexer": "ipython3",
   "version": "3.7.10"
  }
 },
 "nbformat": 4,
 "nbformat_minor": 5
}
